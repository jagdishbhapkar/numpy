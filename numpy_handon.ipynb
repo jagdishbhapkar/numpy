{
 "cells": [
  {
   "cell_type": "code",
   "execution_count": 1,
   "id": "6d60bc5c-8a09-41ef-bfd0-f39000bc4cda",
   "metadata": {},
   "outputs": [],
   "source": [
    "# Numpy in python\n",
    "#NumPy is a Python library used for working with arrays.\n",
    "#It also has functions for working in domain of linear algebra, fourier transform, and matrices.\n",
    "#NumPy stands for Numerical Python.\n",
    "import numpy as np"
   ]
  },
  {
   "cell_type": "code",
   "execution_count": 4,
   "id": "aef939e9-3d1d-4d2d-b36a-32b5f8ff53a3",
   "metadata": {},
   "outputs": [],
   "source": [
    "# What is data science=It is a branch of computer science  where we study how to store,\n",
    "#use and anyalze data for deriving information from it"
   ]
  },
  {
   "cell_type": "code",
   "execution_count": 7,
   "id": "623b5634-3fd1-42d1-b563-7795ee260987",
   "metadata": {},
   "outputs": [
    {
     "name": "stdout",
     "output_type": "stream",
     "text": [
      "[10  2  0  3]\n"
     ]
    },
    {
     "data": {
      "text/plain": [
       "numpy.ndarray"
      ]
     },
     "execution_count": 7,
     "metadata": {},
     "output_type": "execute_result"
    }
   ],
   "source": [
    "arr=np.array([10,2,0,3])\n",
    "print(arr)\n",
    "type(arr)"
   ]
  },
  {
   "cell_type": "code",
   "execution_count": 8,
   "id": "327df04b-da47-420d-ab18-fa87637f799c",
   "metadata": {},
   "outputs": [
    {
     "name": "stdout",
     "output_type": "stream",
     "text": [
      "1.19.5\n"
     ]
    }
   ],
   "source": [
    "import numpy as np\n",
    "arr=(np.__version__)\n",
    "print(arr)"
   ]
  },
  {
   "cell_type": "code",
   "execution_count": 8,
   "id": "4954d350-3f37-4359-9071-ebded87411e3",
   "metadata": {},
   "outputs": [],
   "source": [
    "data1=[[10,20.30],[40,50,60]]"
   ]
  },
  {
   "cell_type": "code",
   "execution_count": 9,
   "id": "c2513e44-5330-4105-9ffd-6a4b51924369",
   "metadata": {},
   "outputs": [
    {
     "name": "stdout",
     "output_type": "stream",
     "text": [
      "[[10, 20.3], [40, 50, 60]]\n"
     ]
    }
   ],
   "source": [
    "print(data1)"
   ]
  },
  {
   "cell_type": "code",
   "execution_count": 10,
   "id": "97399d0b-f483-408c-98f8-6bcc9016690d",
   "metadata": {},
   "outputs": [
    {
     "data": {
      "text/plain": [
       "list"
      ]
     },
     "execution_count": 10,
     "metadata": {},
     "output_type": "execute_result"
    }
   ],
   "source": [
    "type(data1)"
   ]
  },
  {
   "cell_type": "code",
   "execution_count": 11,
   "id": "2ba87c42-b9e0-4d34-9537-0a4eedc336b8",
   "metadata": {},
   "outputs": [
    {
     "name": "stderr",
     "output_type": "stream",
     "text": [
      "<ipython-input-11-596b1e2a9ebd>:1: VisibleDeprecationWarning: Creating an ndarray from ragged nested sequences (which is a list-or-tuple of lists-or-tuples-or ndarrays with different lengths or shapes) is deprecated. If you meant to do this, you must specify 'dtype=object' when creating the ndarray\n",
      "  arr1=np.array(data1)\n"
     ]
    }
   ],
   "source": [
    "arr1=np.array(data1)"
   ]
  },
  {
   "cell_type": "code",
   "execution_count": 12,
   "id": "7ff38524-0773-4d29-b87c-0c126022f1a8",
   "metadata": {},
   "outputs": [],
   "source": [
    "# How create zeroes in numpy library"
   ]
  },
  {
   "cell_type": "code",
   "execution_count": 16,
   "id": "895ba8b5-33cf-484e-8eda-43b02830faeb",
   "metadata": {},
   "outputs": [
    {
     "data": {
      "text/plain": [
       "array([[0., 0., 0., 0., 0., 0.],\n",
       "       [0., 0., 0., 0., 0., 0.],\n",
       "       [0., 0., 0., 0., 0., 0.]])"
      ]
     },
     "execution_count": 16,
     "metadata": {},
     "output_type": "execute_result"
    }
   ],
   "source": [
    "import numpy as np\n",
    "np.zeros((3,6))"
   ]
  },
  {
   "cell_type": "code",
   "execution_count": 19,
   "id": "8d3237e3-592c-4bb9-a7e2-d17a1ac7c4de",
   "metadata": {},
   "outputs": [
    {
     "data": {
      "text/plain": [
       "array([[ 0,  1,  2,  3,  4],\n",
       "       [ 5,  6,  7,  8,  9],\n",
       "       [10, 11, 12, 13, 14]])"
      ]
     },
     "execution_count": 19,
     "metadata": {},
     "output_type": "execute_result"
    }
   ],
   "source": [
    "import pandas as pd\n",
    "np.arange(15).reshape(3,5)\n"
   ]
  },
  {
   "cell_type": "code",
   "execution_count": 24,
   "id": "0a13fdca-ad98-4c90-b9bc-876da9abbd3d",
   "metadata": {},
   "outputs": [
    {
     "name": "stdout",
     "output_type": "stream",
     "text": [
      "5\n",
      "[5 6 7]\n"
     ]
    }
   ],
   "source": [
    "arr=np.arange(20)\n",
    "print(arr[5])\n",
    "print(arr[5:8])"
   ]
  },
  {
   "cell_type": "code",
   "execution_count": 26,
   "id": "b4a1484f-f17f-4d55-8f3f-b1956e195559",
   "metadata": {},
   "outputs": [
    {
     "name": "stdout",
     "output_type": "stream",
     "text": [
      "[[ 0  1  2  3  4]\n",
      " [ 5  6  7  8  9]\n",
      " [10 11 12 13 14]]\n"
     ]
    }
   ],
   "source": [
    "arr=np.arange(15).reshape(3,5)\n",
    "print(arr)"
   ]
  },
  {
   "cell_type": "code",
   "execution_count": 28,
   "id": "26a51cfd-0f5e-409d-b27d-6e1a5884720a",
   "metadata": {},
   "outputs": [
    {
     "name": "stdout",
     "output_type": "stream",
     "text": [
      "[0 1 2 3 4]\n",
      "[5 6 7 8 9]\n",
      "[10 11 12 13 14]\n"
     ]
    }
   ],
   "source": [
    "print(arr[0])\n",
    "print(arr[1])\n",
    "print(arr[2])"
   ]
  },
  {
   "cell_type": "code",
   "execution_count": 29,
   "id": "4d196a42-21c7-4892-90d3-94f1794e78cb",
   "metadata": {},
   "outputs": [
    {
     "data": {
      "text/plain": [
       "2"
      ]
     },
     "execution_count": 29,
     "metadata": {},
     "output_type": "execute_result"
    }
   ],
   "source": [
    "arr[0,2]"
   ]
  },
  {
   "cell_type": "code",
   "execution_count": 30,
   "id": "66ff330a-d405-4fe0-8bd0-557887c4181f",
   "metadata": {},
   "outputs": [
    {
     "name": "stdout",
     "output_type": "stream",
     "text": [
      "[[ 1  2  3]\n",
      " [ 4  6  7]\n",
      " [ 9  1 22]]\n"
     ]
    }
   ],
   "source": [
    "arr2=np.array([[1,2,3],[4,6,7],[9,1,22]])\n",
    "print(arr2)"
   ]
  },
  {
   "cell_type": "code",
   "execution_count": 32,
   "id": "374b1b67-2f35-4938-b85b-02afd10ab9d1",
   "metadata": {},
   "outputs": [
    {
     "name": "stdout",
     "output_type": "stream",
     "text": [
      "[1 2 3]\n",
      "[4 6 7]\n",
      "[ 9  1 22]\n"
     ]
    }
   ],
   "source": [
    "print(arr2[0])\n",
    "print(arr2[1])\n",
    "print(arr2[2])"
   ]
  },
  {
   "cell_type": "code",
   "execution_count": 38,
   "id": "8b395a8b-545e-49c6-8893-941d27d49b62",
   "metadata": {},
   "outputs": [
    {
     "name": "stdout",
     "output_type": "stream",
     "text": [
      "3\n",
      "6\n",
      "[[1 2 3]\n",
      " [4 6 7]]\n",
      "[[ 9  1 22]]\n",
      "6.111111111111111\n"
     ]
    }
   ],
   "source": [
    "print(arr2[0,2])\n",
    "print(arr2[1,1])\n",
    "print(arr2[:2])\n",
    "print(arr2[2:])\n",
    "print(arr2.mean())"
   ]
  },
  {
   "cell_type": "code",
   "execution_count": 40,
   "id": "dd1a5600-a4f5-488f-a58f-ffb62d3489e0",
   "metadata": {},
   "outputs": [
    {
     "data": {
      "text/plain": [
       "array([25, 45, 39, 27,  5, 22, 18, 26, 11, 33, 26])"
      ]
     },
     "execution_count": 40,
     "metadata": {},
     "output_type": "execute_result"
    }
   ],
   "source": [
    "import numpy as np\n",
    "np.random.randint(1,50,11)\n"
   ]
  },
  {
   "cell_type": "code",
   "execution_count": 47,
   "id": "ef90fd1c-0f3e-4345-85dc-92edfc64dbb9",
   "metadata": {},
   "outputs": [
    {
     "name": "stdout",
     "output_type": "stream",
     "text": [
      "<class 'list'>\n",
      "<class 'numpy.ndarray'>\n",
      "90\n",
      "10\n"
     ]
    }
   ],
   "source": [
    "numbers1=[10,20,30,40,50,60,70,80,90]\n",
    "print(type(numbers1))\n",
    "array1=np.array(numbers1)\n",
    "print(type(array1))\n",
    "print(np.max(array1))\n",
    "print(np.min(array1))\n"
   ]
  },
  {
   "cell_type": "code",
   "execution_count": 50,
   "id": "8785d2d1-38ba-4384-bfe1-afc144d68fdc",
   "metadata": {},
   "outputs": [
    {
     "name": "stdout",
     "output_type": "stream",
     "text": [
      "[[10 20 30]\n",
      " [40 50 60]\n",
      " [70 80 90]]\n"
     ]
    }
   ],
   "source": [
    "arr5=array1.reshape(3,3)\n",
    "print(arr5)"
   ]
  },
  {
   "cell_type": "code",
   "execution_count": 55,
   "id": "d54fce13-5720-44d1-99cf-18fd2bf3eba7",
   "metadata": {},
   "outputs": [
    {
     "name": "stdout",
     "output_type": "stream",
     "text": [
      "[10 50 90]\n",
      "150\n",
      "8\n",
      "0\n"
     ]
    }
   ],
   "source": [
    "print(arr5.diagonal())\n",
    "print(arr5.diagonal().sum())\n",
    "print(arr5.argmax())\n",
    "print(arr5.argmin())\n"
   ]
  },
  {
   "cell_type": "code",
   "execution_count": 63,
   "id": "ee45337e-1ec1-4a9e-b97d-7b38df07b5fd",
   "metadata": {},
   "outputs": [
    {
     "name": "stdout",
     "output_type": "stream",
     "text": [
      "[0.1, 0.2, 0.3, 0.4, 0.5, 0.6, 0.9, 0.1]\n",
      "[[0.1 0.2]\n",
      " [0.3 0.4]\n",
      " [0.5 0.6]\n",
      " [0.9 0.1]]\n"
     ]
    }
   ],
   "source": [
    "prob_pred=([0.1,0.2,   0.3,0.4,  0.5,0.6,   0.9,0.1])\n",
    "array2=np.array(prob_pred)\n",
    "print(prob_pred)\n",
    "type(array2)\n",
    "len(array2)\n",
    "arry8=array2.reshape(4,2)\n",
    "print(arry8)"
   ]
  },
  {
   "cell_type": "code",
   "execution_count": 66,
   "id": "559fea0c-49c0-4f7a-be8f-bda78807a9b5",
   "metadata": {},
   "outputs": [
    {
     "data": {
      "text/html": [
       "<div>\n",
       "<style scoped>\n",
       "    .dataframe tbody tr th:only-of-type {\n",
       "        vertical-align: middle;\n",
       "    }\n",
       "\n",
       "    .dataframe tbody tr th {\n",
       "        vertical-align: top;\n",
       "    }\n",
       "\n",
       "    .dataframe thead th {\n",
       "        text-align: right;\n",
       "    }\n",
       "</style>\n",
       "<table border=\"1\" class=\"dataframe\">\n",
       "  <thead>\n",
       "    <tr style=\"text-align: right;\">\n",
       "      <th></th>\n",
       "      <th>LungCap</th>\n",
       "      <th>Age</th>\n",
       "      <th>Height</th>\n",
       "      <th>Smoke</th>\n",
       "      <th>Gender</th>\n",
       "      <th>Caesarean</th>\n",
       "    </tr>\n",
       "  </thead>\n",
       "  <tbody>\n",
       "    <tr>\n",
       "      <th>0</th>\n",
       "      <td>6.475</td>\n",
       "      <td>6</td>\n",
       "      <td>62.1</td>\n",
       "      <td>no</td>\n",
       "      <td>male</td>\n",
       "      <td>no</td>\n",
       "    </tr>\n",
       "    <tr>\n",
       "      <th>1</th>\n",
       "      <td>10.125</td>\n",
       "      <td>18</td>\n",
       "      <td>74.7</td>\n",
       "      <td>yes</td>\n",
       "      <td>female</td>\n",
       "      <td>no</td>\n",
       "    </tr>\n",
       "    <tr>\n",
       "      <th>2</th>\n",
       "      <td>9.550</td>\n",
       "      <td>16</td>\n",
       "      <td>69.7</td>\n",
       "      <td>no</td>\n",
       "      <td>female</td>\n",
       "      <td>yes</td>\n",
       "    </tr>\n",
       "    <tr>\n",
       "      <th>3</th>\n",
       "      <td>11.125</td>\n",
       "      <td>14</td>\n",
       "      <td>71.0</td>\n",
       "      <td>no</td>\n",
       "      <td>male</td>\n",
       "      <td>no</td>\n",
       "    </tr>\n",
       "    <tr>\n",
       "      <th>4</th>\n",
       "      <td>4.800</td>\n",
       "      <td>5</td>\n",
       "      <td>56.9</td>\n",
       "      <td>no</td>\n",
       "      <td>male</td>\n",
       "      <td>no</td>\n",
       "    </tr>\n",
       "  </tbody>\n",
       "</table>\n",
       "</div>"
      ],
      "text/plain": [
       "   LungCap  Age  Height Smoke  Gender Caesarean\n",
       "0    6.475    6    62.1    no    male        no\n",
       "1   10.125   18    74.7   yes  female        no\n",
       "2    9.550   16    69.7    no  female       yes\n",
       "3   11.125   14    71.0    no    male        no\n",
       "4    4.800    5    56.9    no    male        no"
      ]
     },
     "execution_count": 66,
     "metadata": {},
     "output_type": "execute_result"
    }
   ],
   "source": [
    "import pandas as pd\n",
    "lcn=pd.read_csv(r\"F:\\PGA22\\Data Science\\pandas_Dataset\\LungCapData.csv\")\n",
    "lcn\n",
    "lcn.head()"
   ]
  },
  {
   "cell_type": "code",
   "execution_count": 69,
   "id": "5ad30239-a98d-4ca5-ae91-97b7e8b72122",
   "metadata": {},
   "outputs": [
    {
     "name": "stdout",
     "output_type": "stream",
     "text": [
      "['no' 'yes']\n"
     ]
    },
    {
     "data": {
      "text/plain": [
       "5.0"
      ]
     },
     "execution_count": 69,
     "metadata": {},
     "output_type": "execute_result"
    }
   ],
   "source": [
    "print(np.unique(lcn.Smoke))\n",
    "#np.sqrt(25)"
   ]
  },
  {
   "cell_type": "code",
   "execution_count": 75,
   "id": "e5915261-024f-4b65-b61f-82a71ec2920f",
   "metadata": {},
   "outputs": [
    {
     "name": "stdout",
     "output_type": "stream",
     "text": [
      "5.0\n",
      "12.326896551724138\n",
      "10.0\n"
     ]
    }
   ],
   "source": [
    "print(np.sqrt(25))\n",
    "print(lcn.Age.mean())\n",
    "print(np.percentile(lcn.Age,26))"
   ]
  },
  {
   "cell_type": "code",
   "execution_count": 79,
   "id": "dd4857ed-fb9d-4456-be1e-0b933734d576",
   "metadata": {},
   "outputs": [
    {
     "name": "stdout",
     "output_type": "stream",
     "text": [
      "6.0\n",
      "0.9980550336767947\n",
      "7\n"
     ]
    }
   ],
   "source": [
    "print(np.power(36,0.5))\n",
    "print(np.log(2.713))\n",
    "print(np.abs(-7))"
   ]
  },
  {
   "cell_type": "code",
   "execution_count": 81,
   "id": "088f8b46-c02e-47a3-b47f-81b2f95890ed",
   "metadata": {},
   "outputs": [
    {
     "name": "stdout",
     "output_type": "stream",
     "text": [
      "2.718281828459045\n",
      "25\n"
     ]
    }
   ],
   "source": [
    "# new math loibrary\n",
    "import math\n",
    "print(math.e)\n",
    "print(math.gcd(200,25))"
   ]
  },
  {
   "cell_type": "code",
   "execution_count": 83,
   "id": "91d753f2-ec1a-4c44-87a1-5dd5a8392056",
   "metadata": {},
   "outputs": [
    {
     "name": "stdout",
     "output_type": "stream",
     "text": [
      "[1, 11, 111]\n",
      "<class 'numpy.ndarray'>\n",
      "[ 0.          0.1010101   0.2020202   0.3030303   0.4040404   0.50505051\n",
      "  0.60606061  0.70707071  0.80808081  0.90909091  1.01010101  1.11111111\n",
      "  1.21212121  1.31313131  1.41414141  1.51515152  1.61616162  1.71717172\n",
      "  1.81818182  1.91919192  2.02020202  2.12121212  2.22222222  2.32323232\n",
      "  2.42424242  2.52525253  2.62626263  2.72727273  2.82828283  2.92929293\n",
      "  3.03030303  3.13131313  3.23232323  3.33333333  3.43434343  3.53535354\n",
      "  3.63636364  3.73737374  3.83838384  3.93939394  4.04040404  4.14141414\n",
      "  4.24242424  4.34343434  4.44444444  4.54545455  4.64646465  4.74747475\n",
      "  4.84848485  4.94949495  5.05050505  5.15151515  5.25252525  5.35353535\n",
      "  5.45454545  5.55555556  5.65656566  5.75757576  5.85858586  5.95959596\n",
      "  6.06060606  6.16161616  6.26262626  6.36363636  6.46464646  6.56565657\n",
      "  6.66666667  6.76767677  6.86868687  6.96969697  7.07070707  7.17171717\n",
      "  7.27272727  7.37373737  7.47474747  7.57575758  7.67676768  7.77777778\n",
      "  7.87878788  7.97979798  8.08080808  8.18181818  8.28282828  8.38383838\n",
      "  8.48484848  8.58585859  8.68686869  8.78787879  8.88888889  8.98989899\n",
      "  9.09090909  9.19191919  9.29292929  9.39393939  9.49494949  9.5959596\n",
      "  9.6969697   9.7979798   9.8989899  10.        ]\n",
      "[ 1.          1.09090909  1.18181818  1.27272727  1.36363636  1.45454545\n",
      "  1.54545455  1.63636364  1.72727273  1.81818182  1.90909091  2.\n",
      "  2.09090909  2.18181818  2.27272727  2.36363636  2.45454545  2.54545455\n",
      "  2.63636364  2.72727273  2.81818182  2.90909091  3.          3.09090909\n",
      "  3.18181818  3.27272727  3.36363636  3.45454545  3.54545455  3.63636364\n",
      "  3.72727273  3.81818182  3.90909091  4.          4.09090909  4.18181818\n",
      "  4.27272727  4.36363636  4.45454545  4.54545455  4.63636364  4.72727273\n",
      "  4.81818182  4.90909091  5.          5.09090909  5.18181818  5.27272727\n",
      "  5.36363636  5.45454545  5.54545455  5.63636364  5.72727273  5.81818182\n",
      "  5.90909091  6.          6.09090909  6.18181818  6.27272727  6.36363636\n",
      "  6.45454545  6.54545455  6.63636364  6.72727273  6.81818182  6.90909091\n",
      "  7.          7.09090909  7.18181818  7.27272727  7.36363636  7.45454545\n",
      "  7.54545455  7.63636364  7.72727273  7.81818182  7.90909091  8.\n",
      "  8.09090909  8.18181818  8.27272727  8.36363636  8.45454545  8.54545455\n",
      "  8.63636364  8.72727273  8.81818182  8.90909091  9.          9.09090909\n",
      "  9.18181818  9.27272727  9.36363636  9.45454545  9.54545455  9.63636364\n",
      "  9.72727273  9.81818182  9.90909091 10.        ]\n"
     ]
    }
   ],
   "source": [
    "import numpy as np\n",
    "list1=[1,11,111]\n",
    "type(list1)\n",
    "print(list1)\n",
    "ar1=np.array(list1)\n",
    "print(type(ar1))\n",
    "num=np.linspace(0,10,100)\n",
    "print(num)\n",
    "num1=np.linspace(1,10,100)\n",
    "print(num1)\n"
   ]
  },
  {
   "cell_type": "code",
   "execution_count": 86,
   "id": "00600aa9-5c8b-46fb-b9ec-5b529d2c5e9c",
   "metadata": {},
   "outputs": [
    {
     "data": {
      "text/plain": [
       "array([32, 46, 12, 43, 42, 44, 42, 42, 20, 32])"
      ]
     },
     "execution_count": 86,
     "metadata": {},
     "output_type": "execute_result"
    }
   ],
   "source": [
    "# Randomly generate list\n",
    "# in betwwen 1 to 50\n",
    "import numpy as np\n",
    "np.random.randint(1,50,10)\n",
    "# It automatically genarte list between 10"
   ]
  },
  {
   "cell_type": "code",
   "execution_count": 90,
   "id": "d53f7ce9-b24b-4c75-ac8e-38a7c8baf323",
   "metadata": {},
   "outputs": [
    {
     "name": "stdout",
     "output_type": "stream",
     "text": [
      "[[ 20  30   5]\n",
      " [ 21  31  41]\n",
      " [201 301 201]]\n",
      "7\n",
      "2\n"
     ]
    }
   ],
   "source": [
    "numbers1 =[20 , 30 , 5 , 21,31,41, 201, 301, 201]\n",
    "numbers1=np.array(numbers1)\n",
    "numbers1\n",
    "numbers1=numbers1.reshape(3,3)\n",
    "print(numbers1)\n",
    "print(numbers1.argmax())\n",
    "print(numbers1.argmin())"
   ]
  },
  {
   "cell_type": "code",
   "execution_count": 99,
   "id": "5ad39192-e16f-46ed-8bde-45b1fc53bbfc",
   "metadata": {},
   "outputs": [
    {
     "name": "stdout",
     "output_type": "stream",
     "text": [
      "[[11 12]\n",
      " [13 14]]\n",
      "[[21 22]\n",
      " [23 24]]\n",
      "[[32 34]\n",
      " [36 38]]\n",
      "[[-10 -10]\n",
      " [-10 -10]]\n",
      "[[231 264]\n",
      " [299 336]]\n"
     ]
    }
   ],
   "source": [
    "# apply arithmatic operation on array\n",
    "m1=np.array((11,12,13,14))\n",
    "m1=m1.reshape(2,2)\n",
    "print(m1)\n",
    "m2=np.array((21,22,23,24))\n",
    "m2=m2.reshape(2,2)\n",
    "print(m2)\n",
    "# Addition operation\n",
    "m=m1+m2\n",
    "print(m)\n",
    "mk=m1-m2\n",
    "print(mk)\n",
    "rk=m1*m2\n",
    "print(rk)"
   ]
  },
  {
   "cell_type": "code",
   "execution_count": null,
   "id": "d9a94e59-ac62-47c6-aea9-4083e733c752",
   "metadata": {},
   "outputs": [],
   "source": []
  }
 ],
 "metadata": {
  "kernelspec": {
   "display_name": "Python 3",
   "language": "python",
   "name": "python3"
  },
  "language_info": {
   "codemirror_mode": {
    "name": "ipython",
    "version": 3
   },
   "file_extension": ".py",
   "mimetype": "text/x-python",
   "name": "python",
   "nbconvert_exporter": "python",
   "pygments_lexer": "ipython3",
   "version": "3.8.8"
  }
 },
 "nbformat": 4,
 "nbformat_minor": 5
}
